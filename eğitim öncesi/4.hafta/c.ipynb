{
 "cells": [
  {
   "cell_type": "code",
   "execution_count": null,
   "metadata": {},
   "outputs": [],
   "source": []
  }
 ],
 "metadata": {
  "kernelspec": {
   "display_name": "Python 3",
   "language": "python",
   "name": "python3"
  },
  "language_info": {
   "name": "python",
   "version": "3.11.1"
  },
  "orig_nbformat": 4,
  "vscode": {
   "interpreter": {
    "hash": "da2012e5614d8cfd025faef9959fc6612e8eee3cfe5bd0caf3dd5e0de8934805"
   }
  }
 },
 "nbformat": 4,
 "nbformat_minor": 2
}
