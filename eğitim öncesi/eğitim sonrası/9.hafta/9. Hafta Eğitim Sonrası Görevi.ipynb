{
 "cells": [
  {
   "attachments": {},
   "cell_type": "markdown",
   "metadata": {},
   "source": [
    "# Problem 1\n",
    "\n",
    "Kumanda isminde bir sınıf oluşturarak aşağıdaki işlemleri yapmasını sağlayan fonksiyonları sınıf içerisinde yazalım.\n",
    "1. Tv Aç\n",
    "2. Tv Kapat\n",
    "3. Ses Ayarları\n",
    "4. Kanal Ekle\n",
    "5. Kanal Sayısını Öğrenme\n",
    "6. Rastgele Kanala Geçme\n",
    "7. Televizyon Bilgileri\n",
    "\n",
    "\n",
    "Kumandayı kapatmak için q tuşuna basılmalı ve diğer durumlarda hangi işlemi yapmak istediği sorulmalıdır. Her işlemde gerekli fonksiyonunun sınıf içerisinden çağırılması gerekmektedir.\n",
    "\n",
    "random ve time kütüphanesini araştırarak kullanabilirsiniz.\n",
    "\n",
    "Kendi istediğiniz özellikleri eklemekte serbetsiniz."
   ]
  },
  {
   "cell_type": "code",
   "execution_count": 1,
   "metadata": {},
   "outputs": [
    {
     "name": "stdout",
     "output_type": "stream",
     "text": [
      "Televizyon açılıyor...\n",
      "Toplam 5 kanal var.\n",
      "Televizyon kapatılıyor...\n",
      "Kumanda kapatılıyor...\n"
     ]
    }
   ],
   "source": [
    "# 1.Problemin Çözümünü Buraya Yazınız\n",
    "import random\n",
    "import time\n",
    "\n",
    "class Kumanda:\n",
    "    def __init__(self):\n",
    "        self.tv_durumu = False\n",
    "        self.ses = 0\n",
    "        self.kanal_listesi = [\"TRT\", \"CNN\", \"FOX\", \"NTV\", \"DISCOVERY\"]\n",
    "        self.kanal = \"TRT\"\n",
    "\n",
    "    def tv_ac(self):\n",
    "        if self.tv_durumu:\n",
    "            print(\"Televizyon zaten açık...\")\n",
    "        else:\n",
    "            print(\"Televizyon açılıyor...\")\n",
    "            self.tv_durumu = True\n",
    "\n",
    "    def tv_kapat(self):\n",
    "        if not self.tv_durumu:\n",
    "            print(\"Televizyon zaten kapalı...\")\n",
    "        else:\n",
    "            print(\"Televizyon kapatılıyor...\")\n",
    "            self.tv_durumu = False\n",
    "\n",
    "    def ses_ayarları(self):\n",
    "        while True:\n",
    "            cevap = input(\"Sesi açmak için '+', kısmak için '-', çıkmak için 'q' tuşuna basın:\")\n",
    "            if cevap == \"+\":\n",
    "                if self.ses != 32:\n",
    "                    self.ses += 1\n",
    "                    print(\"Ses:\", self.ses)\n",
    "            elif cevap == \"-\":\n",
    "                if self.ses != 0:\n",
    "                    self.ses -= 1\n",
    "                    print(\"Ses:\", self.ses)\n",
    "            else:\n",
    "                print(\"Ses güncellendi:\", self.ses)\n",
    "                break\n",
    "\n",
    "    def kanal_ekle(self, kanal_adi):\n",
    "        print(\"Kanal ekleniyor...\")\n",
    "        time.sleep(1)\n",
    "        self.kanal_listesi.append(kanal_adi)\n",
    "        print(\"Kanal eklendi.\")\n",
    "\n",
    "    def kanal_sayisi(self):\n",
    "        print(\"Toplam\", len(self.kanal_listesi), \"kanal var.\")\n",
    "\n",
    "    def rastgele_kanal(self):\n",
    "        rastgele = random.randint(0, len(self.kanal_listesi)-1)\n",
    "        self.kanal = self.kanal_listesi[rastgele]\n",
    "        print(\"Şu anki kanal:\", self.kanal)\n",
    "\n",
    "    def tv_bilgileri(self):\n",
    "        print(\"Tv Durumu:\", self.tv_durumu)\n",
    "        print(\"Ses:\", self.ses)\n",
    "        print(\"Kanal Listesi:\", self.kanal_listesi)\n",
    "        print(\"Şu anki kanal:\", self.kanal)\n",
    "\n",
    "kumanda = Kumanda()\n",
    "\n",
    "while True:\n",
    "    işlem = input(\"Televizyonu açmak için 'a', kapatmak için 'k', bilgiler için 'b', kanal sayısı için 's', rastgele kanala geçmek için 'r', kanal eklemek için 'e', ses ayarları için 'Ses', çıkmak için 'q' tuşuna basın:\")\n",
    "    if işlem == \"q\":\n",
    "        print(\"Kumanda kapatılıyor...\")\n",
    "        break\n",
    "    elif işlem == \"a\":\n",
    "        kumanda.tv_ac()\n",
    "    elif işlem == \"k\":\n",
    "        kumanda.tv_kapat()\n",
    "    elif işlem == \"s\":\n",
    "        kumanda.kanal_sayisi()\n",
    "    elif işlem == \"r\":\n",
    "        kumanda.rastgele_kanal()\n",
    "    elif işlem == \"e\":\n",
    "        kanal_isimleri = input(\"Eklemek istediğiniz kanalları ',' ile ayırarak girin:\")\n",
    "        kanal_listesi = kanal_isimleri.split(\",\")\n",
    "       \n",
    "\n"
   ]
  }
 ],
 "metadata": {
  "kernelspec": {
   "display_name": "Python 3",
   "language": "python",
   "name": "python3"
  },
  "language_info": {
   "codemirror_mode": {
    "name": "ipython",
    "version": 3
   },
   "file_extension": ".py",
   "mimetype": "text/x-python",
   "name": "python",
   "nbconvert_exporter": "python",
   "pygments_lexer": "ipython3",
   "version": "3.11.1"
  },
  "orig_nbformat": 4,
  "vscode": {
   "interpreter": {
    "hash": "5026d2d6e7aaaaba093def813beadff083d8733e4a511af01735cbabd156995d"
   }
  }
 },
 "nbformat": 4,
 "nbformat_minor": 2
}
