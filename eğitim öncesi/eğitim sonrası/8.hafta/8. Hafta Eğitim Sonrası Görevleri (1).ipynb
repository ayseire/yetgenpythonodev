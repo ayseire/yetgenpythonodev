{
 "cells": [
  {
   "attachments": {},
   "cell_type": "markdown",
   "metadata": {},
   "source": [
    "# Problem 1\n",
    "\n",
    "Şimdi beraber kullanıcılardan aldığımız verileri işleyerek, onlara hem çıktı verecek, hem de aldığımız ve hesapladığımız verileri ileride kullanabilmek adına kaydedeceğiz.\n",
    "\n",
    "\n",
    " **Bu bir veri giriş platformu olacak**\n",
    "\n",
    "\n",
    " * kullanıcıya kaç giriş yapacağını soracağız\n",
    "* kullanıcıdan isim-soyisim, yaş, boy, kilo bilgilerini alarak VKİ hesaplayacağız\n",
    "* ardından bunları sınıflara göre kaydedeceğiz bir dosyaya kaydedeceğiz\n",
    "\n",
    "\n",
    "Sınıflar ise şu şekilde: \n",
    "* 18, 5 kg/m.'nin altında olanlar: Zayıf\n",
    "* 18.5 – 24, 9 kg/m. arasında olanlar: Normal kilolu\n",
    "* 25 – 29, 9 kg/m. arasında olanlar: Fazla kilolu\n",
    "* 30 – 39, 9 kg/m. arasında olanlar: Obez\n",
    "* 40 kg/m.'nin üzerinde olanlar: İleri derecede obez (morbid obez), olarak görülür."
   ]
  },
  {
   "cell_type": "code",
   "execution_count": 1,
   "metadata": {},
   "outputs": [],
   "source": [
    "# 1.Problemin Çözümünü Buraya Yazınız\n",
    "# İlk olarak, kullanıcıdan giriş sayısını alın\n",
    "num_entries = int(input(\"Kaç giriş yapacaksınız?: \"))\n",
    "\n",
    "# Daha sonra, bir for döngüsü kullanarak kullanıcı bilgilerini toplayın\n",
    "for i in range(num_entries):\n",
    "    name = input(\"İsim-Soyisim: \")\n",
    "    age = int(input(\"Yaşınız: \"))\n",
    "    height = float(input(\"Boyunuz (metre cinsinden): \"))\n",
    "    weight = float(input(\"Kilonuz (kg cinsinden): \"))\n",
    "\n",
    "    # VKİ hesaplamak için kullanıcı verilerini kullanın\n",
    "    bmi = weight / (height ** 2)\n",
    "\n",
    "    # VKİ'ye göre kullanıcıyı bir sınıfa atayın\n",
    "    if bmi < 18.5:\n",
    "        category = \"Zayıf\"\n",
    "    elif bmi < 25:\n",
    "        category = \"Normal Kilolu\"\n",
    "    elif bmi < 30:\n",
    "        category = \"Fazla Kilolu\"\n",
    "    elif bmi < 40:\n",
    "        category = \"Obez\"\n",
    "    else:\n",
    "        category = \"Morbid Obez\"\n",
    "\n",
    "    # Kullanıcı bilgilerini dosyaya kaydedin\n",
    "    with open(\"user_data.txt\", \"a\") as file:\n",
    "        file.write(f\"{name}, {age}, {height}, {weight}, {bmi}, {category}\\n\")\n"
   ]
  },
  {
   "attachments": {},
   "cell_type": "markdown",
   "metadata": {},
   "source": [
    "# Problem 2\n",
    "**YetBar - Smoothie Bank**\n",
    "---\n",
    "YetBar spor salonunun girişinde bulunan, insansız bir sağlıklı içecek otomatıdır. Kullanıcı çeşitli girdiler smoothie içeceğine koyacağı ürünleri belirleyebilir, fiyat hesaplaması yaptırabilir ya da sadece menüyü görüntüleyebilir.\n",
    "\n",
    "**Projenin Amacı:**\n",
    "\n",
    "*   Birbirini etkileyen ve bir kod içerisinde birden fazla defa başvurulacak fonksiyonların oluşturulup, \"fonksiyonel\" proglamlamak.\n",
    "*   Büyük programları yazarken, yazılımcı olarak yapabileceğimiz hatalardan kaçınmak için kontrol yöntemleri geliştirmek.\n",
    "*   Kullanıcı inputlarını ve yaptığımız hesapları, raporlamak/loglamak amacıyla kaydetmek.\n",
    "\n",
    "**Programdan Beklenen Çıktılar**\n",
    "* Program kullanıcıya temelde 2 farklı işlem yapma imkanı sağlar.\n",
    "> 1. Menüyü görüntüleme\n",
    "> 3. Satın alma\n",
    "* Satın alınan her içecek tarih, fiyat bilgisi ile kaydedilmeli ve her zaman ulaşılabilir olmalıdır.\n",
    "\n",
    "\n"
   ]
  },
  {
   "cell_type": "code",
   "execution_count": 2,
   "metadata": {},
   "outputs": [],
   "source": [
    "# 2.Problemin Çözümünü Buraya Yazınız\n",
    "def menu_goruntuleme():\n",
    "    meyveler = ['çilek', 'muz', 'ananas', 'mango']\n",
    "    sebzeler = ['ıspanak', 'pırasa', 'havuç', 'kıvırcık']\n",
    "    digerleri = ['badem sütü', 'hindistan cevizi suyu', 'tarçın', 'bal']\n",
    "\n",
    "    print(\"YetBar içecekleri:\")\n",
    "    print(\"Meyveler: \", meyveler)\n",
    "    print(\"Sebzeler: \", sebzeler)\n",
    "    print(\"Diğerleri: \", digerleri)\n",
    "  \n",
    "def satin_alma():\n",
    "    meyve = input(\"Hangi meyveyi seçmek istersiniz? \")\n",
    "    sebze = input(\"Hangi sebzeyi seçmek istersiniz? \")\n",
    "    diger = input(\"Hangi diğer malzemeyi seçmek istersiniz? \")\n",
    "    \n",
    "    fiyat = len(meyve) + len(sebze) + len(diger) # fiyat hesaplaması\n",
    "    \n",
    "    print(\"Hazırlanıyor...\")\n",
    "    # içecek hazırlama işlemleri yapılır\n",
    "    \n",
    "    tarih = datetime.date.today() # içecek satın alınan tarihi al\n",
    "    satin_alinan = {'meyve': meyve, 'sebze': sebze, 'diger': diger, 'fiyat': fiyat, 'tarih': tarih}\n",
    "    # satın alınan içeceğin bilgileri sözlük olarak kaydedilir\n",
    "    \n",
    "    with open('satin_alinanlar.txt', 'a') as f:\n",
    "        f.write(str(satin_alinan) + '\\n') # kaydedilen içecek bilgileri dosyaya yazılır\n"
   ]
  }
 ],
 "metadata": {
  "kernelspec": {
   "display_name": "Python 3",
   "language": "python",
   "name": "python3"
  },
  "language_info": {
   "codemirror_mode": {
    "name": "ipython",
    "version": 3
   },
   "file_extension": ".py",
   "mimetype": "text/x-python",
   "name": "python",
   "nbconvert_exporter": "python",
   "pygments_lexer": "ipython3",
   "version": "3.11.1"
  },
  "orig_nbformat": 4,
  "vscode": {
   "interpreter": {
    "hash": "5026d2d6e7aaaaba093def813beadff083d8733e4a511af01735cbabd156995d"
   }
  }
 },
 "nbformat": 4,
 "nbformat_minor": 2
}
